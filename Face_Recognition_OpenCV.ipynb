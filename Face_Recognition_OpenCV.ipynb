{
 "cells": [
  {
   "cell_type": "code",
   "execution_count": null,
   "metadata": {},
   "outputs": [],
   "source": [
    "import cv2\n",
    "from tensorflow import keras\n",
    "import numpy as np\n",
    "from datetime import datetime\n",
    "import matplotlib.pyplot as plt\n",
    "\n",
    "no = 1\n",
    "now = datetime.now()\n",
    "date_string = now.strftime(\"%Y-%m-%d_%H-%M-%S\")\n",
    "pred = []\n",
    "kamus = {0:'Kecil (LK)',\n",
    "         1:'Kecil (PR)',\n",
    "         2:'Dewasa (LK)',\n",
    "         3:'Dewasa (PR)'}\n",
    "\n",
    "classifier = cv2.CascadeClassifier(\"haarcascade_frontalface_default.xml\") ## Load file haarcascade frontalface\n",
    "model = keras.models.load_model('---------.h5') ## Load model \n",
    "\n",
    "img = cv2.imread(\"-------------\") ## Load file image\n",
    "img2 = img.copy()\n",
    "gray = cv2.cvtColor(img2, cv2.COLOR_BGR2GRAY)\n",
    "\n",
    "faces = classifier.detectMultiScale(gray)\n",
    "\n",
    "for (x, y, w, h) in faces:\n",
    "    cv2.rectangle(img2, (x, y), (x + w, y + h), (0, 0, 255), 2)\n",
    "    face = img2[y:y+h, x:x+w]\n",
    "    face = cv2.resize(face, (64,64))/255\n",
    "    x_test = []\n",
    "    x_test.append(face)\n",
    "    x_test = np.array(x_test)\n",
    "    y_pred = model.predict(x_test)\n",
    "    y_pred = np.argmax(y_pred, axis=1)\n",
    "    y_pred = [kamus[i] for i in y_pred]\n",
    "    pred.append(y_pred)\n",
    "\n",
    "for i in pred:\n",
    "    no += 1\n",
    "    img_name = date_string+str(no)+'.jpg'\n",
    "    folder = 'd:\\\\name-folder\\\\'+i[0]+'\\\\'\n",
    "    save = cv2.imwrite(folder+img_name, img)\n",
    "    if save == True:\n",
    "        print('Images saved in folder : '+i[0])\n",
    "    else:\n",
    "        print(\"Unsaved images\")\n",
    "cv2.imshow(\"Faces\", img2)\n",
    "cv2.waitKey(0)\n",
    "cv2.destroyAllWindows()"
   ]
  }
 ],
 "metadata": {
  "kernelspec": {
   "display_name": "Python 3",
   "language": "python",
   "name": "python3"
  },
  "language_info": {
   "codemirror_mode": {
    "name": "ipython",
    "version": 3
   },
   "file_extension": ".py",
   "mimetype": "text/x-python",
   "name": "python",
   "nbconvert_exporter": "python",
   "pygments_lexer": "ipython3",
   "version": "3.8.3"
  }
 },
 "nbformat": 4,
 "nbformat_minor": 4
}
